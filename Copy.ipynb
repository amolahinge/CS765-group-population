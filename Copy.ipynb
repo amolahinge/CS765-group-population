{
 "cells": [
  {
   "cell_type": "code",
   "execution_count": null,
   "id": "035d1806",
   "metadata": {},
   "outputs": [],
   "source": [
    "#3D1\n",
    "\n",
    "# define figure element\n",
    "fig = go.Figure()\n",
    "# define histogram properties\n",
    "fig = px.histogram (\n",
    "                    customDF,\n",
    "                    x = \"EduGrp\",\n",
    "                    color = \"SexGrp\",\n",
    "                    pattern_shape = \"LaborGrp\",\n",
    "                    color_discrete_sequence = [mblue, fpink],\n",
    "                    barmode = \"relative\",\n",
    "#                     barnorm = \"percent\",\n",
    "#                     histnorm = \"probability density\",\n",
    "                    text_auto = True,\n",
    "                    labels={\n",
    "                             \"cap-shape\": \"Mushroom Cap-Shape & Gill Size\",\n",
    "                            }\n",
    "                    ) \\\n",
    "        .update_traces(\n",
    "                  hoverinfo=\"all\") \\\n",
    "        .update_layout (\n",
    "                        # update layout with titles\n",
    "                        title={\n",
    "                                \"text\": \"Percent - Dataset: Cap Shape & Gill Size - Edibility\",\n",
    "                                \"x\": 0.5\n",
    "                              },\n",
    "    \n",
    "                        yaxis_title= \"Absolute Counts\"\n",
    "                    ) \\\n",
    "        .update_xaxes(categoryorder='category ascending')\n",
    "\n",
    "# display the figure\n",
    "fig.show()"
   ]
  },
  {
   "cell_type": "code",
   "execution_count": null,
   "id": "616389cf",
   "metadata": {},
   "outputs": [],
   "source": [
    "# 3D2\n",
    "from upsetplot import from_indicators\n",
    "from upsetplot import UpSet\n",
    "\n",
    "filtered_df = df[['LaborStat', 'HasSpouse', 'IsSpouseEmpl']]\n",
    "filtered_df['LFilter'] = filtered_df['LaborStat'] < 3\n",
    "filtered_df['SFilter'] = filtered_df['HasSpouse'] < 3\n",
    "filtered_df['EFilter'] = filtered_df['IsSpouseEmpl'] < 2\n",
    "selected_df = filtered_df[['LFilter', 'SFilter', 'EFilter']]\n",
    "selected_df.head(3)\n",
    "employment_data = from_indicators(selected_df, data=df)\n",
    "UpSet(employment_data).plot()"
   ]
  },
  {
   "cell_type": "code",
   "execution_count": null,
   "id": "9a43545d",
   "metadata": {},
   "outputs": [],
   "source": [
    "#4D1\n",
    "customDF1 = df[['MetroGrp', 'SexGrp', 'LaborGrp', 'RaceGrp', 'TUCASEID']].dropna()\n",
    "plotdfSB1 = customDF1.groupby([\"MetroGrp\", \"SexGrp\", \"LaborGrp\", \"RaceGrp\"], as_index=False)[\"TUCASEID\"].count()\n",
    "fig = px.sunburst(  customDF1, \n",
    "                    path = ['SexGrp', \n",
    "                            'MetroGrp',\n",
    "                            'LaborGrp', \n",
    "                            'RaceGrp'\n",
    "                           ], \n",
    "                    title=\"Edibility Mushrooms - bruises, population & habitat\",\n",
    "                    color='SexGrp',\n",
    "                    color_discrete_sequence = [mblue, fpink],\n",
    "                    height=800\n",
    "                 )\n",
    "# display the figure\n",
    "fig.show()"
   ]
  },
  {
   "cell_type": "code",
   "execution_count": null,
   "id": "efd1b19a",
   "metadata": {},
   "outputs": [],
   "source": [
    "#4D2"
   ]
  }
 ],
 "metadata": {
  "kernelspec": {
   "display_name": "Python 3 (ipykernel)",
   "language": "python",
   "name": "python3"
  },
  "language_info": {
   "codemirror_mode": {
    "name": "ipython",
    "version": 3
   },
   "file_extension": ".py",
   "mimetype": "text/x-python",
   "name": "python",
   "nbconvert_exporter": "python",
   "pygments_lexer": "ipython3",
   "version": "3.9.12"
  }
 },
 "nbformat": 4,
 "nbformat_minor": 5
}
